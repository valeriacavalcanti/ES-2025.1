{
 "cells": [
  {
   "cell_type": "code",
   "execution_count": 7,
   "id": "263f51ff-01f5-4dde-83d5-7b67aa2b6b0a",
   "metadata": {},
   "outputs": [],
   "source": [
    "import pandas as pd"
   ]
  },
  {
   "cell_type": "code",
   "execution_count": 8,
   "id": "9fd631c0",
   "metadata": {},
   "outputs": [],
   "source": [
    "df = pd.read_csv('alunos.csv')"
   ]
  },
  {
   "cell_type": "code",
   "execution_count": 9,
   "id": "4198151f",
   "metadata": {},
   "outputs": [
    {
     "name": "stdout",
     "output_type": "stream",
     "text": [
      "<class 'pandas.core.frame.DataFrame'>\n",
      "RangeIndex: 97728 entries, 0 to 97727\n",
      "Data columns (total 5 columns):\n",
      " #   Column      Non-Null Count  Dtype \n",
      "---  ------      --------------  ----- \n",
      " 0   nome        97728 non-null  object\n",
      " 1   matricula   97728 non-null  object\n",
      " 2   curso.nome  97728 non-null  object\n",
      " 3   situacao    97728 non-null  object\n",
      " 4   cota        35409 non-null  object\n",
      "dtypes: object(5)\n",
      "memory usage: 3.7+ MB\n"
     ]
    }
   ],
   "source": [
    "df.info()"
   ]
  },
  {
   "cell_type": "code",
   "execution_count": 10,
   "id": "7555d573",
   "metadata": {},
   "outputs": [
    {
     "data": {
      "text/plain": [
       "0                          Aline de Almeida Campos\n",
       "1                 Ana Carolina Vasconcelos Barreto\n",
       "2                    ANDERSON GERÔNCIO SOUZA SILVA\n",
       "3                        Andrieli Alves dos Santos\n",
       "4                  Anna Luisa Marques Duarte Catão\n",
       "                           ...                    \n",
       "97723                          José Calixto Júnior\n",
       "97724                         Elizama Rosa de Lima\n",
       "97725                   Jose Maurilio Davi Bezerra\n",
       "97726             João Vitor do Nascimento Marinho\n",
       "97727    Cristina Elizabeth Braz Dantas dos Santos\n",
       "Name: nome, Length: 97728, dtype: object"
      ]
     },
     "execution_count": 10,
     "metadata": {},
     "output_type": "execute_result"
    }
   ],
   "source": [
    "df.nome"
   ]
  },
  {
   "cell_type": "code",
   "execution_count": 11,
   "id": "dfaaf809",
   "metadata": {},
   "outputs": [
    {
     "data": {
      "text/plain": [
       "97728"
      ]
     },
     "execution_count": 11,
     "metadata": {},
     "output_type": "execute_result"
    }
   ],
   "source": [
    "len(df.nome)"
   ]
  }
 ],
 "metadata": {
  "kernelspec": {
   "display_name": "env",
   "language": "python",
   "name": "python3"
  },
  "language_info": {
   "codemirror_mode": {
    "name": "ipython",
    "version": 3
   },
   "file_extension": ".py",
   "mimetype": "text/x-python",
   "name": "python",
   "nbconvert_exporter": "python",
   "pygments_lexer": "ipython3",
   "version": "3.12.8"
  }
 },
 "nbformat": 4,
 "nbformat_minor": 5
}
